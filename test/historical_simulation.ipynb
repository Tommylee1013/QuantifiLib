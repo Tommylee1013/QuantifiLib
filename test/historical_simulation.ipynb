{
 "cells": [
  {
   "metadata": {},
   "cell_type": "markdown",
   "source": "### Historical Simulation",
   "id": "5e051671b3f0634"
  },
  {
   "cell_type": "code",
   "id": "initial_id",
   "metadata": {
    "collapsed": true,
    "ExecuteTime": {
     "end_time": "2025-08-06T16:52:53.486177Z",
     "start_time": "2025-08-06T16:52:53.470393Z"
    }
   },
   "source": [
    "import numpy as np\n",
    "import pandas as pd\n",
    "\n",
    "np.random.seed(7)\n",
    "\n",
    "tickers = [\"AAA\", \"BBB\", \"CCC\"]\n",
    "n_days  = 260  # ~1년 영업일\n",
    "dates   = pd.bdate_range(\"2024-01-02\", periods=n_days, freq=\"B\")\n",
    "\n",
    "mu = np.array([0.08, 0.05, 0.12])\n",
    "sigma = np.array([0.20, 0.15, 0.30]) \n",
    "dt = 1/252\n",
    "\n",
    "rets = np.exp((mu - 0.5*sigma**2)*dt + sigma*np.sqrt(dt)*np.random.randn(n_days, len(tickers)))\n",
    "prices_close = pd.DataFrame(100 * rets.cumprod(axis=0), index=dates, columns=tickers)\n",
    "\n",
    "overnight = np.exp(0.0002 + 0.01*np.random.randn(n_days, len(tickers))) \n",
    "prices_open = prices_close.shift(1) * overnight\n",
    "prices_open.iloc[0] = prices_close.iloc[0] * (1 + 0.001) \n",
    "\n",
    "intraday = 0.01 * np.abs(np.random.randn(n_days, len(tickers)))\n",
    "high = pd.DataFrame(np.maximum(prices_open.values, prices_close.values) * (1 + intraday), index=dates, columns=tickers)\n",
    "low  = pd.DataFrame(np.minimum(prices_open.values, prices_close.values) * (1 - intraday), index=dates, columns=tickers)\n",
    "\n",
    "open_df  = prices_open.astype(float)\n",
    "close_df = prices_close.astype(float)\n",
    "high_df  = high.astype(float)\n",
    "low_df   = low.astype(float)\n",
    "\n",
    "ohlc = {\"open\": open_df, \"high\": high_df, \"low\": low_df, \"close\": close_df}"
   ],
   "outputs": [],
   "execution_count": 5
  },
  {
   "metadata": {},
   "cell_type": "markdown",
   "source": "### Rebalancing",
   "id": "1dbb2fb94cd67761"
  },
  {
   "metadata": {},
   "cell_type": "code",
   "outputs": [],
   "execution_count": null,
   "source": [
    "rebalance_dates = pd.date_range(dates[0], dates[-2], freq=\"BMS\") \n",
    "\n",
    "def random_weights(n_assets, tilt=None):\n",
    "    w = np.random.rand(n_assets)\n",
    "    if tilt is not None:\n",
    "        w = w * (1 + np.asarray(tilt))\n",
    "    w = np.maximum(w, 0)\n",
    "    return w / w.sum()\n",
    "\n",
    "rows = []\n",
    "for dt_reb in rebalance_dates:\n",
    "    w = random_weights(len(tickers), tilt=[0.0, -0.2, 0.2])\n",
    "    rows.append(pd.Series(w, index=tickers, name=dt_reb))\n",
    "weights_df = pd.DataFrame(rows)\n",
    "if len(weights_df) >= 3:\n",
    "    weights_df.loc[weights_df.index[2], \"BBB\"] = 0.0\n",
    "    weights_df.loc[weights_df.index[2]] /= weights_df.loc[weights_df.index[2]].sum()"
   ],
   "id": "97cd6e578153fbdc"
  },
  {
   "metadata": {},
   "cell_type": "markdown",
   "source": "### Run Historical Simulation",
   "id": "5538256f10febeaa"
  },
  {
   "metadata": {
    "ExecuteTime": {
     "end_time": "2025-08-06T16:55:01.260373Z",
     "start_time": "2025-08-06T16:55:01.224272Z"
    }
   },
   "cell_type": "code",
   "source": [
    "from quantifilib.backtest.historical_simulation import HistoricalSimulation\n",
    "\n",
    "sim = HistoricalSimulation(\n",
    "    data=None,\n",
    "    ohlc=ohlc,                         # 평가: close, 체결: open\n",
    "    valuation_field=\"close\",\n",
    "    execution_field=\"open\",\n",
    "    weights_df=weights_df,\n",
    "    rebalance_dates=rebalance_dates,\n",
    "    initial_value=1_000_000,\n",
    "    normalize_weights=True,\n",
    "    fill_method=\"ffill\",\n",
    "    use_next_open=True, # execution next open price\n",
    "    slippage_bps=3, # 3bp slippage\n",
    "    commission={\"variable_bps\": 5, \"fixed\": 0.5, \"min_per_trade\": 1.0},\n",
    "    allow_partial_shares=False, # 정수(또는 lot) 체결\n",
    "    min_lot=1, # 종목별 lot dict도 가능\n",
    "    deposit_rate_annual=0.03, # cash yield rate 3%\n",
    "    borrow_rate_annual=0.06  # minus cash (loan) yield -6%\n",
    ").run()\n",
    "\n",
    "res = sim.get_results()\n",
    "\n",
    "print(\"=== Tail of portfolio value (index_series) ===\")\n",
    "print(res[\"index_series\"].tail(), \"\\n\")\n",
    "\n",
    "print(\"=== Tail of cash balance (cash_series) ===\")\n",
    "print(res[\"cash_series\"].tail(), \"\\n\")\n",
    "\n",
    "print(\"=== Head of trade_ledger ===\")\n",
    "print(res[\"trade_ledger\"].head(), \"\\n\")\n",
    "\n",
    "print(\"=== Tail of trade_ledger ===\")\n",
    "print(res[\"trade_ledger\"].tail(), \"\\n\")\n",
    "\n",
    "print(\"=== Sample logs ===\")\n",
    "print(res[\"logs\"][:6])"
   ],
   "id": "2b9d5ff9e7ef4dd4",
   "outputs": [
    {
     "name": "stdout",
     "output_type": "stream",
     "text": [
      "=== Tail of portfolio value (index_series) ===\n",
      "2024-12-24    786962.530748\n",
      "2024-12-25    782568.179547\n",
      "2024-12-26    781607.668471\n",
      "2024-12-27    778786.016124\n",
      "2024-12-30    784474.887894\n",
      "Freq: B, dtype: float64 \n",
      "\n",
      "=== Tail of cash balance (cash_series) ===\n",
      "2024-12-24    45.114133\n",
      "2024-12-25    45.119425\n",
      "2024-12-26    45.124717\n",
      "2024-12-27    45.130011\n",
      "2024-12-30    45.135304\n",
      "Freq: B, dtype: float64 \n",
      "\n",
      "=== Head of trade_ledger ===\n",
      "        date ticker  side  shares_delta  exec_price_eff       notional  \\\n",
      "0 2024-02-02    AAA   buy        3211.0       99.877992  320708.233340   \n",
      "1 2024-02-02    BBB   buy        4633.0       91.818863  425396.791838   \n",
      "2 2024-02-02    CCC   buy        2322.0      109.064023  253246.660648   \n",
      "3 2024-03-04    AAA   buy        4482.0      102.666388  460150.753116   \n",
      "4 2024-03-04    BBB  sell       -1897.0       94.902794  180030.599596   \n",
      "\n",
      "   commission  \n",
      "0  160.854117  \n",
      "1  213.198396  \n",
      "2  127.123330  \n",
      "3  230.575377  \n",
      "4   90.515300   \n",
      "\n",
      "=== Tail of trade_ledger ===\n",
      "         date ticker  side  shares_delta  exec_price_eff       notional  \\\n",
      "28 2024-11-04    BBB   buy        2106.0       95.626744  201389.922459   \n",
      "29 2024-11-04    CCC  sell       -1560.0       70.826917  110489.991200   \n",
      "30 2024-12-03    AAA  sell        -138.0       98.265387   13560.623462   \n",
      "31 2024-12-03    BBB  sell       -1558.0       95.074007  148125.302449   \n",
      "32 2024-12-03    CCC   buy        2229.0       72.472841  161541.962080   \n",
      "\n",
      "    commission  \n",
      "28  101.194961  \n",
      "29   55.744996  \n",
      "30    7.280312  \n",
      "31   74.562651  \n",
      "32   81.270981   \n",
      "\n",
      "=== Sample logs ===\n",
      "['[INFO] 2024-02-01 scaled buys by 0.9995 to avoid negative cash.', '[INFO] 2024-04-01 scaled buys by 0.9987 to avoid negative cash.', '[INFO] 2024-05-01 scaled buys by 0.9820 to avoid negative cash.', '[INFO] 2024-09-02 scaled buys by 0.9952 to avoid negative cash.', '[INFO] 2024-10-01 scaled buys by 0.9954 to avoid negative cash.', '[INFO] 2024-11-01 scaled buys by 0.9863 to avoid negative cash.']\n"
     ]
    }
   ],
   "execution_count": 7
  },
  {
   "metadata": {},
   "cell_type": "markdown",
   "source": [
    "### Output\n",
    "\n",
    "- Index Series"
   ],
   "id": "66a1f23baa31c32b"
  },
  {
   "metadata": {
    "ExecuteTime": {
     "end_time": "2025-08-06T16:55:28.018615Z",
     "start_time": "2025-08-06T16:55:26.541251Z"
    }
   },
   "cell_type": "code",
   "source": "res['index_series'].plot()",
   "id": "cacf08333ae9114d",
   "outputs": [
    {
     "data": {
      "text/plain": [
       "<Axes: >"
      ]
     },
     "execution_count": 9,
     "metadata": {},
     "output_type": "execute_result"
    },
    {
     "data": {
      "text/plain": [
       "<Figure size 640x480 with 1 Axes>"
      ],
      "image/png": "[encoded data removed]"
     },
     "metadata": {},
     "output_type": "display_data"
    }
   ],
   "execution_count": 9
  },
  {
   "metadata": {},
   "cell_type": "markdown",
   "source": "현금 보유량",
   "id": "22e3b3517950972d"
  },
  {
   "metadata": {
    "ExecuteTime": {
     "end_time": "2025-08-06T16:56:04.091912Z",
     "start_time": "2025-08-06T16:56:04.005916Z"
    }
   },
   "cell_type": "code",
   "source": "res['cash_series'].plot()",
   "id": "302922edcb958f38",
   "outputs": [
    {
     "data": {
      "text/plain": [
       "<Axes: >"
      ]
     },
     "execution_count": 10,
     "metadata": {},
     "output_type": "execute_result"
    },
    {
     "data": {
      "text/plain": [
       "<Figure size 640x480 with 1 Axes>"
      ],
      "image/png": "[encoded data removed]"
     },
     "metadata": {},
     "output_type": "display_data"
    }
   ],
   "execution_count": 10
  },
  {
   "metadata": {},
   "cell_type": "markdown",
   "source": [
    "거래 장부\n",
    "- 가중치, 체결가격 등의 거래시 가록된 데이터 장부\n"
   ],
   "id": "2a52b0409c603fde"
  },
  {
   "metadata": {
    "ExecuteTime": {
     "end_time": "2025-08-06T16:57:01.998470Z",
     "start_time": "2025-08-06T16:57:01.992442Z"
    }
   },
   "cell_type": "code",
   "source": "res['trade_ledger']",
   "id": "107112165b1d1e38",
   "outputs": [
    {
     "data": {
      "text/plain": [
       "         date ticker  side  shares_delta  exec_price_eff       notional  \\\n",
       "0  2024-02-02    AAA   buy        3211.0       99.877992  320708.233340   \n",
       "1  2024-02-02    BBB   buy        4633.0       91.818863  425396.791838   \n",
       "2  2024-02-02    CCC   buy        2322.0      109.064023  253246.660648   \n",
       "3  2024-03-04    AAA   buy        4482.0      102.666388  460150.753116   \n",
       "4  2024-03-04    BBB  sell       -1897.0       94.902794  180030.599596   \n",
       "5  2024-03-04    CCC  sell       -2276.0      123.762230  281682.835335   \n",
       "6  2024-04-02    AAA  sell       -2865.0      100.468344  287841.805306   \n",
       "7  2024-04-02    BBB  sell       -2736.0       88.918289  243280.438648   \n",
       "8  2024-04-02    CCC   buy        4644.0      114.497448  531726.150648   \n",
       "9  2024-05-02    AAA  sell       -3539.0      103.013543  364564.928559   \n",
       "10 2024-05-02    BBB   buy        2152.0       88.807652  191114.067319   \n",
       "11 2024-05-02    CCC   buy        1530.0      113.099803  173042.698928   \n",
       "12 2024-06-04    AAA   buy        3590.0      105.475942  378658.631889   \n",
       "13 2024-06-04    BBB  sell       -1719.0       97.727123  167992.924665   \n",
       "14 2024-06-04    CCC  sell       -2282.0       94.280233  215147.491923   \n",
       "15 2024-07-02    CCC  sell        -420.0       79.438723   33364.263756   \n",
       "16 2024-07-02    BBB   buy        1286.0       95.034752  122214.690728   \n",
       "17 2024-07-02    AAA  sell        -882.0       99.169847   87467.805443   \n",
       "18 2024-08-02    AAA  sell        -410.0       96.598281   39605.295333   \n",
       "19 2024-08-02    BBB  sell         -75.0       96.968789    7272.659200   \n",
       "20 2024-08-02    CCC   buy         577.0       75.048775   43303.143197   \n",
       "21 2024-09-03    AAA  sell        -277.0       87.410885   24212.815166   \n",
       "22 2024-09-03    BBB   buy        1583.0       95.420083  151049.991212   \n",
       "23 2024-09-03    CCC  sell       -1665.0       72.501055  120714.256940   \n",
       "24 2024-10-02    AAA   buy         817.0       94.580425   77272.207598   \n",
       "25 2024-10-02    BBB  sell       -1946.0       95.256293  185368.746852   \n",
       "26 2024-10-02    CCC   buy        1484.0       72.727384  107927.437580   \n",
       "27 2024-11-04    AAA  sell        -856.0      106.474760   91142.394473   \n",
       "28 2024-11-04    BBB   buy        2106.0       95.626744  201389.922459   \n",
       "29 2024-11-04    CCC  sell       -1560.0       70.826917  110489.991200   \n",
       "30 2024-12-03    AAA  sell        -138.0       98.265387   13560.623462   \n",
       "31 2024-12-03    BBB  sell       -1558.0       95.074007  148125.302449   \n",
       "32 2024-12-03    CCC   buy        2229.0       72.472841  161541.962080   \n",
       "\n",
       "    commission  \n",
       "0   160.854117  \n",
       "1   213.198396  \n",
       "2   127.123330  \n",
       "3   230.575377  \n",
       "4    90.515300  \n",
       "5   141.341418  \n",
       "6   144.420903  \n",
       "7   122.140219  \n",
       "8   266.363075  \n",
       "9   182.782464  \n",
       "10   96.057034  \n",
       "11   87.021349  \n",
       "12  189.829316  \n",
       "13   84.496462  \n",
       "14  108.073746  \n",
       "15   17.182132  \n",
       "16   61.607345  \n",
       "17   44.233903  \n",
       "18   20.302648  \n",
       "19    4.136330  \n",
       "20   22.151572  \n",
       "21   12.606408  \n",
       "22   76.024996  \n",
       "23   60.857128  \n",
       "24   39.136104  \n",
       "25   93.184373  \n",
       "26   54.463719  \n",
       "27   46.071197  \n",
       "28  101.194961  \n",
       "29   55.744996  \n",
       "30    7.280312  \n",
       "31   74.562651  \n",
       "32   81.270981  "
      ],
      "text/html": [
       "<div>\n",
       "<style scoped>\n",
       "    .dataframe tbody tr th:only-of-type {\n",
       "        vertical-align: middle;\n",
       "    }\n",
       "\n",
       "    .dataframe tbody tr th {\n",
       "        vertical-align: top;\n",
       "    }\n",
       "\n",
       "    .dataframe thead th {\n",
       "        text-align: right;\n",
       "    }\n",
       "</style>\n",
       "<table border=\"1\" class=\"dataframe\">\n",
       "  <thead>\n",
       "    <tr style=\"text-align: right;\">\n",
       "      <th></th>\n",
       "      <th>date</th>\n",
       "      <th>ticker</th>\n",
       "      <th>side</th>\n",
       "      <th>shares_delta</th>\n",
       "      <th>exec_price_eff</th>\n",
       "      <th>notional</th>\n",
       "      <th>commission</th>\n",
       "    </tr>\n",
       "  </thead>\n",
       "  <tbody>\n",
       "    <tr>\n",
       "      <th>0</th>\n",
       "      <td>2024-02-02</td>\n",
       "      <td>AAA</td>\n",
       "      <td>buy</td>\n",
       "      <td>3211.0</td>\n",
       "      <td>99.877992</td>\n",
       "      <td>320708.233340</td>\n",
       "      <td>160.854117</td>\n",
       "    </tr>\n",
       "    <tr>\n",
       "      <th>1</th>\n",
       "      <td>2024-02-02</td>\n",
       "      <td>BBB</td>\n",
       "      <td>buy</td>\n",
       "      <td>4633.0</td>\n",
       "      <td>91.818863</td>\n",
       "      <td>425396.791838</td>\n",
       "      <td>213.198396</td>\n",
       "    </tr>\n",
       "    <tr>\n",
       "      <th>2</th>\n",
       "      <td>2024-02-02</td>\n",
       "      <td>CCC</td>\n",
       "      <td>buy</td>\n",
       "      <td>2322.0</td>\n",
       "      <td>109.064023</td>\n",
       "      <td>253246.660648</td>\n",
       "      <td>127.123330</td>\n",
       "    </tr>\n",
       "    <tr>\n",
       "      <th>3</th>\n",
       "      <td>2024-03-04</td>\n",
       "      <td>AAA</td>\n",
       "      <td>buy</td>\n",
       "      <td>4482.0</td>\n",
       "      <td>102.666388</td>\n",
       "      <td>460150.753116</td>\n",
       "      <td>230.575377</td>\n",
       "    </tr>\n",
       "    <tr>\n",
       "      <th>4</th>\n",
       "      <td>2024-03-04</td>\n",
       "      <td>BBB</td>\n",
       "      <td>sell</td>\n",
       "      <td>-1897.0</td>\n",
       "      <td>94.902794</td>\n",
       "      <td>180030.599596</td>\n",
       "      <td>90.515300</td>\n",
       "    </tr>\n",
       "    <tr>\n",
       "      <th>5</th>\n",
       "      <td>2024-03-04</td>\n",
       "      <td>CCC</td>\n",
       "      <td>sell</td>\n",
       "      <td>-2276.0</td>\n",
       "      <td>123.762230</td>\n",
       "      <td>281682.835335</td>\n",
       "      <td>141.341418</td>\n",
       "    </tr>\n",
       "    <tr>\n",
       "      <th>6</th>\n",
       "      <td>2024-04-02</td>\n",
       "      <td>AAA</td>\n",
       "      <td>sell</td>\n",
       "      <td>-2865.0</td>\n",
       "      <td>100.468344</td>\n",
       "      <td>287841.805306</td>\n",
       "      <td>144.420903</td>\n",
       "    </tr>\n",
       "    <tr>\n",
       "      <th>7</th>\n",
       "      <td>2024-04-02</td>\n",
       "      <td>BBB</td>\n",
       "      <td>sell</td>\n",
       "      <td>-2736.0</td>\n",
       "      <td>88.918289</td>\n",
       "      <td>243280.438648</td>\n",
       "      <td>122.140219</td>\n",
       "    </tr>\n",
       "    <tr>\n",
       "      <th>8</th>\n",
       "      <td>2024-04-02</td>\n",
       "      <td>CCC</td>\n",
       "      <td>buy</td>\n",
       "      <td>4644.0</td>\n",
       "      <td>114.497448</td>\n",
       "      <td>531726.150648</td>\n",
       "      <td>266.363075</td>\n",
       "    </tr>\n",
       "    <tr>\n",
       "      <th>9</th>\n",
       "      <td>2024-05-02</td>\n",
       "      <td>AAA</td>\n",
       "      <td>sell</td>\n",
       "      <td>-3539.0</td>\n",
       "      <td>103.013543</td>\n",
       "      <td>364564.928559</td>\n",
       "      <td>182.782464</td>\n",
       "    </tr>\n",
       "    <tr>\n",
       "      <th>10</th>\n",
       "      <td>2024-05-02</td>\n",
       "      <td>BBB</td>\n",
       "      <td>buy</td>\n",
       "      <td>2152.0</td>\n",
       "      <td>88.807652</td>\n",
       "      <td>191114.067319</td>\n",
       "      <td>96.057034</td>\n",
       "    </tr>\n",
       "    <tr>\n",
       "      <th>11</th>\n",
       "      <td>2024-05-02</td>\n",
       "      <td>CCC</td>\n",
       "      <td>buy</td>\n",
       "      <td>1530.0</td>\n",
       "      <td>113.099803</td>\n",
       "      <td>173042.698928</td>\n",
       "      <td>87.021349</td>\n",
       "    </tr>\n",
       "    <tr>\n",
       "      <th>12</th>\n",
       "      <td>2024-06-04</td>\n",
       "      <td>AAA</td>\n",
       "      <td>buy</td>\n",
       "      <td>3590.0</td>\n",
       "      <td>105.475942</td>\n",
       "      <td>378658.631889</td>\n",
       "      <td>189.829316</td>\n",
       "    </tr>\n",
       "    <tr>\n",
       "      <th>13</th>\n",
       "      <td>2024-06-04</td>\n",
       "      <td>BBB</td>\n",
       "      <td>sell</td>\n",
       "      <td>-1719.0</td>\n",
       "      <td>97.727123</td>\n",
       "      <td>167992.924665</td>\n",
       "      <td>84.496462</td>\n",
       "    </tr>\n",
       "    <tr>\n",
       "      <th>14</th>\n",
       "      <td>2024-06-04</td>\n",
       "      <td>CCC</td>\n",
       "      <td>sell</td>\n",
       "      <td>-2282.0</td>\n",
       "      <td>94.280233</td>\n",
       "      <td>215147.491923</td>\n",
       "      <td>108.073746</td>\n",
       "    </tr>\n",
       "    <tr>\n",
       "      <th>15</th>\n",
       "      <td>2024-07-02</td>\n",
       "      <td>CCC</td>\n",
       "      <td>sell</td>\n",
       "      <td>-420.0</td>\n",
       "      <td>79.438723</td>\n",
       "      <td>33364.263756</td>\n",
       "      <td>17.182132</td>\n",
       "    </tr>\n",
       "    <tr>\n",
       "      <th>16</th>\n",
       "      <td>2024-07-02</td>\n",
       "      <td>BBB</td>\n",
       "      <td>buy</td>\n",
       "      <td>1286.0</td>\n",
       "      <td>95.034752</td>\n",
       "      <td>122214.690728</td>\n",
       "      <td>61.607345</td>\n",
       "    </tr>\n",
       "    <tr>\n",
       "      <th>17</th>\n",
       "      <td>2024-07-02</td>\n",
       "      <td>AAA</td>\n",
       "      <td>sell</td>\n",
       "      <td>-882.0</td>\n",
       "      <td>99.169847</td>\n",
       "      <td>87467.805443</td>\n",
       "      <td>44.233903</td>\n",
       "    </tr>\n",
       "    <tr>\n",
       "      <th>18</th>\n",
       "      <td>2024-08-02</td>\n",
       "      <td>AAA</td>\n",
       "      <td>sell</td>\n",
       "      <td>-410.0</td>\n",
       "      <td>96.598281</td>\n",
       "      <td>39605.295333</td>\n",
       "      <td>20.302648</td>\n",
       "    </tr>\n",
       "    <tr>\n",
       "      <th>19</th>\n",
       "      <td>2024-08-02</td>\n",
       "      <td>BBB</td>\n",
       "      <td>sell</td>\n",
       "      <td>-75.0</td>\n",
       "      <td>96.968789</td>\n",
       "      <td>7272.659200</td>\n",
       "      <td>4.136330</td>\n",
       "    </tr>\n",
       "    <tr>\n",
       "      <th>20</th>\n",
       "      <td>2024-08-02</td>\n",
       "      <td>CCC</td>\n",
       "      <td>buy</td>\n",
       "      <td>577.0</td>\n",
       "      <td>75.048775</td>\n",
       "      <td>43303.143197</td>\n",
       "      <td>22.151572</td>\n",
       "    </tr>\n",
       "    <tr>\n",
       "      <th>21</th>\n",
       "      <td>2024-09-03</td>\n",
       "      <td>AAA</td>\n",
       "      <td>sell</td>\n",
       "      <td>-277.0</td>\n",
       "      <td>87.410885</td>\n",
       "      <td>24212.815166</td>\n",
       "      <td>12.606408</td>\n",
       "    </tr>\n",
       "    <tr>\n",
       "      <th>22</th>\n",
       "      <td>2024-09-03</td>\n",
       "      <td>BBB</td>\n",
       "      <td>buy</td>\n",
       "      <td>1583.0</td>\n",
       "      <td>95.420083</td>\n",
       "      <td>151049.991212</td>\n",
       "      <td>76.024996</td>\n",
       "    </tr>\n",
       "    <tr>\n",
       "      <th>23</th>\n",
       "      <td>2024-09-03</td>\n",
       "      <td>CCC</td>\n",
       "      <td>sell</td>\n",
       "      <td>-1665.0</td>\n",
       "      <td>72.501055</td>\n",
       "      <td>120714.256940</td>\n",
       "      <td>60.857128</td>\n",
       "    </tr>\n",
       "    <tr>\n",
       "      <th>24</th>\n",
       "      <td>2024-10-02</td>\n",
       "      <td>AAA</td>\n",
       "      <td>buy</td>\n",
       "      <td>817.0</td>\n",
       "      <td>94.580425</td>\n",
       "      <td>77272.207598</td>\n",
       "      <td>39.136104</td>\n",
       "    </tr>\n",
       "    <tr>\n",
       "      <th>25</th>\n",
       "      <td>2024-10-02</td>\n",
       "      <td>BBB</td>\n",
       "      <td>sell</td>\n",
       "      <td>-1946.0</td>\n",
       "      <td>95.256293</td>\n",
       "      <td>185368.746852</td>\n",
       "      <td>93.184373</td>\n",
       "    </tr>\n",
       "    <tr>\n",
       "      <th>26</th>\n",
       "      <td>2024-10-02</td>\n",
       "      <td>CCC</td>\n",
       "      <td>buy</td>\n",
       "      <td>1484.0</td>\n",
       "      <td>72.727384</td>\n",
       "      <td>107927.437580</td>\n",
       "      <td>54.463719</td>\n",
       "    </tr>\n",
       "    <tr>\n",
       "      <th>27</th>\n",
       "      <td>2024-11-04</td>\n",
       "      <td>AAA</td>\n",
       "      <td>sell</td>\n",
       "      <td>-856.0</td>\n",
       "      <td>106.474760</td>\n",
       "      <td>91142.394473</td>\n",
       "      <td>46.071197</td>\n",
       "    </tr>\n",
       "    <tr>\n",
       "      <th>28</th>\n",
       "      <td>2024-11-04</td>\n",
       "      <td>BBB</td>\n",
       "      <td>buy</td>\n",
       "      <td>2106.0</td>\n",
       "      <td>95.626744</td>\n",
       "      <td>201389.922459</td>\n",
       "      <td>101.194961</td>\n",
       "    </tr>\n",
       "    <tr>\n",
       "      <th>29</th>\n",
       "      <td>2024-11-04</td>\n",
       "      <td>CCC</td>\n",
       "      <td>sell</td>\n",
       "      <td>-1560.0</td>\n",
       "      <td>70.826917</td>\n",
       "      <td>110489.991200</td>\n",
       "      <td>55.744996</td>\n",
       "    </tr>\n",
       "    <tr>\n",
       "      <th>30</th>\n",
       "      <td>2024-12-03</td>\n",
       "      <td>AAA</td>\n",
       "      <td>sell</td>\n",
       "      <td>-138.0</td>\n",
       "      <td>98.265387</td>\n",
       "      <td>13560.623462</td>\n",
       "      <td>7.280312</td>\n",
       "    </tr>\n",
       "    <tr>\n",
       "      <th>31</th>\n",
       "      <td>2024-12-03</td>\n",
       "      <td>BBB</td>\n",
       "      <td>sell</td>\n",
       "      <td>-1558.0</td>\n",
       "      <td>95.074007</td>\n",
       "      <td>148125.302449</td>\n",
       "      <td>74.562651</td>\n",
       "    </tr>\n",
       "    <tr>\n",
       "      <th>32</th>\n",
       "      <td>2024-12-03</td>\n",
       "      <td>CCC</td>\n",
       "      <td>buy</td>\n",
       "      <td>2229.0</td>\n",
       "      <td>72.472841</td>\n",
       "      <td>161541.962080</td>\n",
       "      <td>81.270981</td>\n",
       "    </tr>\n",
       "  </tbody>\n",
       "</table>\n",
       "</div>"
      ]
     },
     "execution_count": 12,
     "metadata": {},
     "output_type": "execute_result"
    }
   ],
   "execution_count": 12
  },
  {
   "metadata": {},
   "cell_type": "markdown",
   "source": [
    "### Dollar Cost Averaging Simulation\n",
    "\n",
    "월 적립식 투자 시뮬레이션, 단일 자산과 복수 자산에 대해 시뮬레이션 가능"
   ],
   "id": "8fe5b25738b40b90"
  },
  {
   "metadata": {
    "ExecuteTime": {
     "end_time": "2025-08-16T17:28:36.718270Z",
     "start_time": "2025-08-16T17:28:32.121505Z"
    }
   },
   "cell_type": "code",
   "source": [
    "import numpy as np\n",
    "import pandas as pd\n",
    "\n",
    "from quantifilib.data.data_loader.yfinance_loader import YahooFinanceLoader\n",
    "from quantifilib.backtest.historical_simulation import DollarCostAveragingSimulation\n",
    "\n",
    "loader = YahooFinanceLoader()\n",
    "spy = loader.load(\n",
    "    'SPY',\n",
    "    start = '2020-01-01',\n",
    "    interval = '1d',\n",
    "    auto_adjust = False,\n",
    "    multi_level_index = False,\n",
    "    progress = False\n",
    ")"
   ],
   "id": "da4d2dc37bd6b330",
   "outputs": [],
   "execution_count": 1
  },
  {
   "metadata": {
    "ExecuteTime": {
     "end_time": "2025-08-16T17:29:00.338317Z",
     "start_time": "2025-08-16T17:29:00.334632Z"
    }
   },
   "cell_type": "code",
   "source": [
    "px = spy[\"Close\"].to_frame(name='SPY').dropna()\n",
    "px.index = pd.to_datetime(px.index)  # ensure DatetimeIndex\n",
    "\n",
    "val_px = px.copy()\n",
    "exe_px = px.copy()"
   ],
   "id": "91e039fc45a5688e",
   "outputs": [],
   "execution_count": 3
  },
  {
   "metadata": {},
   "cell_type": "markdown",
   "source": "단일 자산에 대해서, 거래일을 지정",
   "id": "d9689ef131a21ff4"
  },
  {
   "metadata": {
    "ExecuteTime": {
     "end_time": "2025-08-16T17:29:41.252877Z",
     "start_time": "2025-08-16T17:29:41.241778Z"
    }
   },
   "cell_type": "code",
   "source": [
    "first_trading_days = (\n",
    "    val_px.index.to_series()\n",
    "    .groupby([val_px.index.year, val_px.index.month])\n",
    "    .first()\n",
    "    .values\n",
    ")"
   ],
   "id": "ab653100cecdff3b",
   "outputs": [],
   "execution_count": 5
  },
  {
   "metadata": {
    "ExecuteTime": {
     "end_time": "2025-08-16T17:30:14.701686Z",
     "start_time": "2025-08-16T17:30:14.692914Z"
    }
   },
   "cell_type": "code",
   "source": [
    "contribution_amount = 100.0 # 월 100달러씩 적용\n",
    "contrib = pd.Series(0.0, index=val_px.index) # 적립금 히스토리 생성\n",
    "contrib.loc[first_trading_days] = contribution_amount"
   ],
   "id": "7bd7549fcc4e10ce",
   "outputs": [],
   "execution_count": 6
  },
  {
   "metadata": {
    "ExecuteTime": {
     "end_time": "2025-08-16T17:31:16.204921Z",
     "start_time": "2025-08-16T17:31:16.193883Z"
    }
   },
   "cell_type": "code",
   "source": [
    "sim = DollarCostAveragingSimulation(\n",
    "    val_px=val_px,\n",
    "    exe_px=exe_px,\n",
    "    initial_value=0.0,\n",
    "    contribution_series=contrib, # Series with $100 on first trading day each month\n",
    "    weights=None, # 단일 자산일 경우 None 혹은 'equal'로 지정\n",
    "    allow_partial_shares=True, # fractional shares에 대해서 허용\n",
    "    min_lot=1,\n",
    "    use_next_open=False, # trade at same-day close; set True to use next available open\n",
    "    deposit_rate_annual=0.0, # cash accrual (set if you want to model interest on cash)\n",
    "    borrow_rate_annual=0.0,\n",
    "    commission={\"variable_bps\": 0.0, \"fixed\": 0.0, \"min_per_trade\": 0.0},  # no fees by default\n",
    "    cap_trade_pct=1.0,\n",
    "    tick_size=None,\n",
    ")"
   ],
   "id": "63562d4866d73fd6",
   "outputs": [],
   "execution_count": 7
  },
  {
   "metadata": {
    "ExecuteTime": {
     "end_time": "2025-08-16T17:31:22.964292Z",
     "start_time": "2025-08-16T17:31:22.802682Z"
    }
   },
   "cell_type": "code",
   "source": "sim.run()",
   "id": "1bd6c586eb840733",
   "outputs": [
    {
     "data": {
      "text/plain": [
       "<quantifilib.backtest.historical_simulation.DollarCostAveragingSimulation at 0x10d1f4a50>"
      ]
     },
     "execution_count": 8,
     "metadata": {},
     "output_type": "execute_result"
    }
   ],
   "execution_count": 8
  },
  {
   "metadata": {
    "ExecuteTime": {
     "end_time": "2025-08-16T17:31:38.253827Z",
     "start_time": "2025-08-16T17:31:38.250216Z"
    }
   },
   "cell_type": "code",
   "source": "res = sim.get_results()",
   "id": "64ae02e32fe914b",
   "outputs": [],
   "execution_count": 9
  },
  {
   "metadata": {
    "ExecuteTime": {
     "end_time": "2025-08-16T17:32:17.464040Z",
     "start_time": "2025-08-16T17:32:17.458068Z"
    }
   },
   "cell_type": "code",
   "source": "res.keys()",
   "id": "94d812aa79b301cd",
   "outputs": [
    {
     "data": {
      "text/plain": [
       "dict_keys(['index_series', 'cash_series', 'shares_record', 'trade_ledger', 'shares_ledger', 'logs'])"
      ]
     },
     "execution_count": 13,
     "metadata": {},
     "output_type": "execute_result"
    }
   ],
   "execution_count": 13
  },
  {
   "metadata": {
    "ExecuteTime": {
     "end_time": "2025-08-16T17:33:28.543539Z",
     "start_time": "2025-08-16T17:33:28.451286Z"
    }
   },
   "cell_type": "code",
   "source": [
    "import matplotlib.pyplot as plt\n",
    "\n",
    "res['index_series'].plot(title = 'Portfolio Value')\n",
    "plt.show()"
   ],
   "id": "f83fbcf852e4c672",
   "outputs": [
    {
     "data": {
      "text/plain": [
       "<Figure size 640x480 with 1 Axes>"
      ],
      "image/png": "[encoded data removed]"
     },
     "metadata": {},
     "output_type": "display_data"
    }
   ],
   "execution_count": 18
  },
  {
   "metadata": {
    "ExecuteTime": {
     "end_time": "2025-08-16T17:33:31.434318Z",
     "start_time": "2025-08-16T17:33:31.370343Z"
    }
   },
   "cell_type": "code",
   "source": [
    "res['shares_record'].plot(title = 'Shares recorded')\n",
    "plt.show()"
   ],
   "id": "ccec467628837fca",
   "outputs": [
    {
     "data": {
      "text/plain": [
       "<Figure size 640x480 with 1 Axes>"
      ],
      "image/png": "[encoded data removed]"
     },
     "metadata": {},
     "output_type": "display_data"
    }
   ],
   "execution_count": 19
  },
  {
   "metadata": {
    "ExecuteTime": {
     "end_time": "2025-08-16T17:33:46.132992Z",
     "start_time": "2025-08-16T17:33:46.120371Z"
    }
   },
   "cell_type": "code",
   "source": "res['trade_ledger']",
   "id": "eede861cecf08e12",
   "outputs": [
    {
     "data": {
      "text/plain": [
       "         date ticker side  shares_delta  exec_price_eff  notional  commission\n",
       "0  2020-01-02    SPY  buy      0.307815      324.869995     100.0         0.0\n",
       "1  2020-02-03    SPY  buy      0.308528      324.119995     100.0         0.0\n",
       "2  2020-03-02    SPY  buy      0.323530      309.089996     100.0         0.0\n",
       "3  2020-04-01    SPY  buy      0.406256      246.149994     100.0         0.0\n",
       "4  2020-05-01    SPY  buy      0.353619      282.790009     100.0         0.0\n",
       "..        ...    ...  ...           ...             ...       ...         ...\n",
       "63 2025-04-01    SPY  buy      0.178263      560.969971     100.0         0.0\n",
       "64 2025-05-01    SPY  buy      0.179061      558.469971     100.0         0.0\n",
       "65 2025-06-02    SPY  buy      0.168717      592.710022     100.0         0.0\n",
       "66 2025-07-01    SPY  buy      0.161904      617.650024     100.0         0.0\n",
       "67 2025-08-01    SPY  buy      0.160844      621.719971     100.0         0.0\n",
       "\n",
       "[68 rows x 7 columns]"
      ],
      "text/html": [
       "<div>\n",
       "<style scoped>\n",
       "    .dataframe tbody tr th:only-of-type {\n",
       "        vertical-align: middle;\n",
       "    }\n",
       "\n",
       "    .dataframe tbody tr th {\n",
       "        vertical-align: top;\n",
       "    }\n",
       "\n",
       "    .dataframe thead th {\n",
       "        text-align: right;\n",
       "    }\n",
       "</style>\n",
       "<table border=\"1\" class=\"dataframe\">\n",
       "  <thead>\n",
       "    <tr style=\"text-align: right;\">\n",
       "      <th></th>\n",
       "      <th>date</th>\n",
       "      <th>ticker</th>\n",
       "      <th>side</th>\n",
       "      <th>shares_delta</th>\n",
       "      <th>exec_price_eff</th>\n",
       "      <th>notional</th>\n",
       "      <th>commission</th>\n",
       "    </tr>\n",
       "  </thead>\n",
       "  <tbody>\n",
       "    <tr>\n",
       "      <th>0</th>\n",
       "      <td>2020-01-02</td>\n",
       "      <td>SPY</td>\n",
       "      <td>buy</td>\n",
       "      <td>0.307815</td>\n",
       "      <td>324.869995</td>\n",
       "      <td>100.0</td>\n",
       "      <td>0.0</td>\n",
       "    </tr>\n",
       "    <tr>\n",
       "      <th>1</th>\n",
       "      <td>2020-02-03</td>\n",
       "      <td>SPY</td>\n",
       "      <td>buy</td>\n",
       "      <td>0.308528</td>\n",
       "      <td>324.119995</td>\n",
       "      <td>100.0</td>\n",
       "      <td>0.0</td>\n",
       "    </tr>\n",
       "    <tr>\n",
       "      <th>2</th>\n",
       "      <td>2020-03-02</td>\n",
       "      <td>SPY</td>\n",
       "      <td>buy</td>\n",
       "      <td>0.323530</td>\n",
       "      <td>309.089996</td>\n",
       "      <td>100.0</td>\n",
       "      <td>0.0</td>\n",
       "    </tr>\n",
       "    <tr>\n",
       "      <th>3</th>\n",
       "      <td>2020-04-01</td>\n",
       "      <td>SPY</td>\n",
       "      <td>buy</td>\n",
       "      <td>0.406256</td>\n",
       "      <td>246.149994</td>\n",
       "      <td>100.0</td>\n",
       "      <td>0.0</td>\n",
       "    </tr>\n",
       "    <tr>\n",
       "      <th>4</th>\n",
       "      <td>2020-05-01</td>\n",
       "      <td>SPY</td>\n",
       "      <td>buy</td>\n",
       "      <td>0.353619</td>\n",
       "      <td>282.790009</td>\n",
       "      <td>100.0</td>\n",
       "      <td>0.0</td>\n",
       "    </tr>\n",
       "    <tr>\n",
       "      <th>...</th>\n",
       "      <td>...</td>\n",
       "      <td>...</td>\n",
       "      <td>...</td>\n",
       "      <td>...</td>\n",
       "      <td>...</td>\n",
       "      <td>...</td>\n",
       "      <td>...</td>\n",
       "    </tr>\n",
       "    <tr>\n",
       "      <th>63</th>\n",
       "      <td>2025-04-01</td>\n",
       "      <td>SPY</td>\n",
       "      <td>buy</td>\n",
       "      <td>0.178263</td>\n",
       "      <td>560.969971</td>\n",
       "      <td>100.0</td>\n",
       "      <td>0.0</td>\n",
       "    </tr>\n",
       "    <tr>\n",
       "      <th>64</th>\n",
       "      <td>2025-05-01</td>\n",
       "      <td>SPY</td>\n",
       "      <td>buy</td>\n",
       "      <td>0.179061</td>\n",
       "      <td>558.469971</td>\n",
       "      <td>100.0</td>\n",
       "      <td>0.0</td>\n",
       "    </tr>\n",
       "    <tr>\n",
       "      <th>65</th>\n",
       "      <td>2025-06-02</td>\n",
       "      <td>SPY</td>\n",
       "      <td>buy</td>\n",
       "      <td>0.168717</td>\n",
       "      <td>592.710022</td>\n",
       "      <td>100.0</td>\n",
       "      <td>0.0</td>\n",
       "    </tr>\n",
       "    <tr>\n",
       "      <th>66</th>\n",
       "      <td>2025-07-01</td>\n",
       "      <td>SPY</td>\n",
       "      <td>buy</td>\n",
       "      <td>0.161904</td>\n",
       "      <td>617.650024</td>\n",
       "      <td>100.0</td>\n",
       "      <td>0.0</td>\n",
       "    </tr>\n",
       "    <tr>\n",
       "      <th>67</th>\n",
       "      <td>2025-08-01</td>\n",
       "      <td>SPY</td>\n",
       "      <td>buy</td>\n",
       "      <td>0.160844</td>\n",
       "      <td>621.719971</td>\n",
       "      <td>100.0</td>\n",
       "      <td>0.0</td>\n",
       "    </tr>\n",
       "  </tbody>\n",
       "</table>\n",
       "<p>68 rows × 7 columns</p>\n",
       "</div>"
      ]
     },
     "execution_count": 20,
     "metadata": {},
     "output_type": "execute_result"
    }
   ],
   "execution_count": 20
  },
  {
   "metadata": {
    "ExecuteTime": {
     "end_time": "2025-08-16T17:34:10.931603Z",
     "start_time": "2025-08-16T17:34:10.927159Z"
    }
   },
   "cell_type": "code",
   "source": "res['shares_ledger']",
   "id": "5723558fade86e7c",
   "outputs": [
    {
     "data": {
      "text/plain": [
       "         date ticker   price_ref     shares       amount\n",
       "0  2020-01-02    SPY  324.869995   0.307815   100.000000\n",
       "1  2020-02-03    SPY  324.119995   0.616343   199.769138\n",
       "2  2020-03-02    SPY  309.089996   0.939874   290.505502\n",
       "3  2020-04-01    SPY  246.149994   1.346130   331.349860\n",
       "4  2020-05-01    SPY  282.790009   1.699749   480.672079\n",
       "..        ...    ...         ...        ...          ...\n",
       "63 2025-04-01    SPY  560.969971  15.367169  8620.520336\n",
       "64 2025-05-01    SPY  558.469971  15.546230  8682.102414\n",
       "65 2025-06-02    SPY  592.710022  15.714946  9314.406114\n",
       "66 2025-07-01    SPY  617.650024  15.876850  9806.336911\n",
       "67 2025-08-01    SPY  621.719971  16.037694  9970.954838\n",
       "\n",
       "[68 rows x 5 columns]"
      ],
      "text/html": [
       "<div>\n",
       "<style scoped>\n",
       "    .dataframe tbody tr th:only-of-type {\n",
       "        vertical-align: middle;\n",
       "    }\n",
       "\n",
       "    .dataframe tbody tr th {\n",
       "        vertical-align: top;\n",
       "    }\n",
       "\n",
       "    .dataframe thead th {\n",
       "        text-align: right;\n",
       "    }\n",
       "</style>\n",
       "<table border=\"1\" class=\"dataframe\">\n",
       "  <thead>\n",
       "    <tr style=\"text-align: right;\">\n",
       "      <th></th>\n",
       "      <th>date</th>\n",
       "      <th>ticker</th>\n",
       "      <th>price_ref</th>\n",
       "      <th>shares</th>\n",
       "      <th>amount</th>\n",
       "    </tr>\n",
       "  </thead>\n",
       "  <tbody>\n",
       "    <tr>\n",
       "      <th>0</th>\n",
       "      <td>2020-01-02</td>\n",
       "      <td>SPY</td>\n",
       "      <td>324.869995</td>\n",
       "      <td>0.307815</td>\n",
       "      <td>100.000000</td>\n",
       "    </tr>\n",
       "    <tr>\n",
       "      <th>1</th>\n",
       "      <td>2020-02-03</td>\n",
       "      <td>SPY</td>\n",
       "      <td>324.119995</td>\n",
       "      <td>0.616343</td>\n",
       "      <td>199.769138</td>\n",
       "    </tr>\n",
       "    <tr>\n",
       "      <th>2</th>\n",
       "      <td>2020-03-02</td>\n",
       "      <td>SPY</td>\n",
       "      <td>309.089996</td>\n",
       "      <td>0.939874</td>\n",
       "      <td>290.505502</td>\n",
       "    </tr>\n",
       "    <tr>\n",
       "      <th>3</th>\n",
       "      <td>2020-04-01</td>\n",
       "      <td>SPY</td>\n",
       "      <td>246.149994</td>\n",
       "      <td>1.346130</td>\n",
       "      <td>331.349860</td>\n",
       "    </tr>\n",
       "    <tr>\n",
       "      <th>4</th>\n",
       "      <td>2020-05-01</td>\n",
       "      <td>SPY</td>\n",
       "      <td>282.790009</td>\n",
       "      <td>1.699749</td>\n",
       "      <td>480.672079</td>\n",
       "    </tr>\n",
       "    <tr>\n",
       "      <th>...</th>\n",
       "      <td>...</td>\n",
       "      <td>...</td>\n",
       "      <td>...</td>\n",
       "      <td>...</td>\n",
       "      <td>...</td>\n",
       "    </tr>\n",
       "    <tr>\n",
       "      <th>63</th>\n",
       "      <td>2025-04-01</td>\n",
       "      <td>SPY</td>\n",
       "      <td>560.969971</td>\n",
       "      <td>15.367169</td>\n",
       "      <td>8620.520336</td>\n",
       "    </tr>\n",
       "    <tr>\n",
       "      <th>64</th>\n",
       "      <td>2025-05-01</td>\n",
       "      <td>SPY</td>\n",
       "      <td>558.469971</td>\n",
       "      <td>15.546230</td>\n",
       "      <td>8682.102414</td>\n",
       "    </tr>\n",
       "    <tr>\n",
       "      <th>65</th>\n",
       "      <td>2025-06-02</td>\n",
       "      <td>SPY</td>\n",
       "      <td>592.710022</td>\n",
       "      <td>15.714946</td>\n",
       "      <td>9314.406114</td>\n",
       "    </tr>\n",
       "    <tr>\n",
       "      <th>66</th>\n",
       "      <td>2025-07-01</td>\n",
       "      <td>SPY</td>\n",
       "      <td>617.650024</td>\n",
       "      <td>15.876850</td>\n",
       "      <td>9806.336911</td>\n",
       "    </tr>\n",
       "    <tr>\n",
       "      <th>67</th>\n",
       "      <td>2025-08-01</td>\n",
       "      <td>SPY</td>\n",
       "      <td>621.719971</td>\n",
       "      <td>16.037694</td>\n",
       "      <td>9970.954838</td>\n",
       "    </tr>\n",
       "  </tbody>\n",
       "</table>\n",
       "<p>68 rows × 5 columns</p>\n",
       "</div>"
      ]
     },
     "execution_count": 21,
     "metadata": {},
     "output_type": "execute_result"
    }
   ],
   "execution_count": 21
  },
  {
   "metadata": {
    "ExecuteTime": {
     "end_time": "2025-08-16T17:35:03.158160Z",
     "start_time": "2025-08-16T17:35:03.155348Z"
    }
   },
   "cell_type": "code",
   "source": "total_invested = float(contrib.sum())  # initial_value is 0 here",
   "id": "1f794e1410790637",
   "outputs": [],
   "execution_count": 25
  },
  {
   "metadata": {
    "ExecuteTime": {
     "end_time": "2025-08-16T17:35:11.224486Z",
     "start_time": "2025-08-16T17:35:11.221864Z"
    }
   },
   "cell_type": "code",
   "source": "total_invested",
   "id": "d2d539cb04d66a96",
   "outputs": [
    {
     "data": {
      "text/plain": [
       "6800.0"
      ]
     },
     "execution_count": 28,
     "metadata": {},
     "output_type": "execute_result"
    }
   ],
   "execution_count": 28
  },
  {
   "metadata": {},
   "cell_type": "markdown",
   "source": "성과 (수익률)",
   "id": "71c15e03c68c84d9"
  },
  {
   "metadata": {
    "ExecuteTime": {
     "end_time": "2025-08-16T17:35:22.151526Z",
     "start_time": "2025-08-16T17:35:22.140893Z"
    }
   },
   "cell_type": "code",
   "source": [
    "mw_irr = sim.money_weighted_irr() # Money-weighted (IRR / XIRR)\n",
    "twr = sim.time_weighted_return() # Time-weighted return\n",
    "simple_ret = sim.simple_return_on_invested()"
   ],
   "id": "f44bc4abb3911a74",
   "outputs": [],
   "execution_count": 29
  },
  {
   "metadata": {
    "ExecuteTime": {
     "end_time": "2025-08-16T17:35:43.760925Z",
     "start_time": "2025-08-16T17:35:43.758719Z"
    }
   },
   "cell_type": "code",
   "source": [
    "print(f\"Simple return     : {simple_ret:,.2%}\")\n",
    "print(f\"Time-weighted (TWR): {twr:,.2%}\")\n",
    "print(f\"Money-weighted IRR : {mw_irr:,.2%}\")"
   ],
   "id": "8f55d9b61e079998",
   "outputs": [
    {
     "name": "stdout",
     "output_type": "stream",
     "text": [
      "Simple return     : 51.75%\n",
      "Time-weighted (TWR): 98.06%\n",
      "Money-weighted IRR : 14.85%\n"
     ]
    }
   ],
   "execution_count": 30
  },
  {
   "metadata": {},
   "cell_type": "code",
   "outputs": [],
   "execution_count": null,
   "source": "",
   "id": "94ef0d99563f1795"
  }
 ],
 "metadata": {
  "kernelspec": {
   "display_name": "Python 3",
   "language": "python",
   "name": "python3"
  },
  "language_info": {
   "codemirror_mode": {
    "name": "ipython",
    "version": 2
   },
   "file_extension": ".py",
   "mimetype": "text/x-python",
   "name": "python",
   "nbconvert_exporter": "python",
   "pygments_lexer": "ipython2",
   "version": "2.7.6"
  }
 },
 "nbformat": 4,
 "nbformat_minor": 5
}
